{
 "cells": [
  {
   "cell_type": "code",
   "execution_count": 1,
   "metadata": {},
   "outputs": [],
   "source": [
    "def convert_hbase_json (file_entree_csv , file_sortie_json):\n",
    "    import pandas as pd\n",
    "    import json\n",
    "    try:\n",
    "        df = pd.read_csv(file_entree_csv, sep=\";\", encoding=\"UTF-8\")\n",
    "    except:\n",
    "        df = pd.read_csv(file_entree_csv, encoding=\"ISO-8859-1\", sep=\";\")    \n",
    "    \n",
    "    \n",
    "    file_json = {\n",
    "    \"description\": df.table_desc.get(0),\n",
    "    \"travail\" : str(df.table_travail.get(0)),\n",
    "    \"theme_fonctionnel\" : str(df.table_them_fonc.get(0)),\n",
    "    \"application_source\" : str(df.table_app_source.get(0)),\n",
    "    \"application_cible\" : str(df.table_app_cible.get(0)),\n",
    "    \"flag_MOE_PVO\" : str(df.table_flag_MOE_PVO.get(0)),\n",
    "    \"rowkey\": {\n",
    "        \"description\": df.rowkey_desc.get(0),\n",
    "        \"exemple\": str(df.rowkey_exemple.get(0))\n",
    "    },\n",
    "    \"columnFamilies\": []\n",
    "    }\n",
    "    \n",
    "    for cf in list(set(df.columnFamilie_name.to_list())):\n",
    "        df_temp = df.loc[df['columnFamilie_name'] == cf]\n",
    "        cf_dict = {\n",
    "        \"name\": cf,\n",
    "        \"description\": df_temp.columnFamilie_desc.iloc[0],\n",
    "        \"columnQualifiers\": []\n",
    "        }\n",
    "        \n",
    "    for i in df_temp.index:\n",
    "        a = {\n",
    "          \"name\": df_temp.loc[i].attribut_name,\n",
    "          \"description\": df_temp.loc[i].attribut_desc,\n",
    "          \"type\": df_temp.loc[i].attribut_type,\n",
    "          \"exemple\": df_temp.loc[i].attribut_exemple,\n",
    "          \"nature\": df_temp.loc[i].attribut_nature,\n",
    "          \"identifiant_de_contact\": df_temp.loc[i].attribut_identifiant_de_contact,\n",
    "          \"signature\": df_temp.loc[i].attribut_signature_signature,\n",
    "          \"confidentialite\" : df_temp.loc[i].attribut_confidentialite\n",
    "          # ,\"nom_colonne\": df_temp.loc[i].attribut_colonne_fichier_excel\n",
    "        }\n",
    "        cf_dict[\"columnQualifiers\"].append(a)\n",
    "    file_json[\"columnFamilies\"].append(cf_dict)\n",
    "    \n",
    "    with open(file_sortie_json, 'w') as outfile:\n",
    "        json.dump(file_json, outfile)"
   ]
  },
  {
   "cell_type": "code",
   "execution_count": 2,
   "metadata": {},
   "outputs": [],
   "source": [
    "convert_hbase_json(file_entree_csv=\"./test_hbase_daiki part2.csv\" , file_sortie_json=\"./daiki_part2.json\")"
   ]
  },
  {
   "cell_type": "code",
   "execution_count": null,
   "metadata": {},
   "outputs": [],
   "source": []
  }
 ],
 "metadata": {
  "kernelspec": {
   "display_name": "Python 3",
   "language": "python",
   "name": "python3"
  },
  "language_info": {
   "codemirror_mode": {
    "name": "ipython",
    "version": 3
   },
   "file_extension": ".py",
   "mimetype": "text/x-python",
   "name": "python",
   "nbconvert_exporter": "python",
   "pygments_lexer": "ipython3",
   "version": "3.7.6"
  }
 },
 "nbformat": 4,
 "nbformat_minor": 4
}
